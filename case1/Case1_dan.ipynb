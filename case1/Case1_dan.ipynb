{
 "cells": [
  {
   "cell_type": "markdown",
   "metadata": {},
   "source": [
    "# Case 1\n",
    "Dan Suman<br>\n",
    "Last edited: 27.01.2019<br>\n",
    "Cognitive Systems for Health Technology Applications<br>\n",
    "[Helsinki Metropolia University of Applied Sciences](http://www.metropolia.fi/en/)<br>"
   ]
  },
  {
   "cell_type": "markdown",
   "metadata": {},
   "source": [
    "## 1. Objectives"
   ]
  },
  {
   "cell_type": "markdown",
   "metadata": {},
   "source": [
    "The main objectives for this case study are: \n",
    " - understand the basics of file processing using panda library \n",
    " - create a simple and fast neural network model for the heart disease classification problem using keras\n",
    "     1. using categorical classification\n",
    "     2. using binary classification"
   ]
  },
  {
   "cell_type": "markdown",
   "metadata": {},
   "source": [
    "## 2. Required libraries\n"
   ]
  },
  {
   "cell_type": "code",
   "execution_count": 373,
   "metadata": {},
   "outputs": [
    {
     "name": "stdout",
     "output_type": "stream",
     "text": [
      "Populating the interactive namespace from numpy and matplotlib\n"
     ]
    },
    {
     "name": "stderr",
     "output_type": "stream",
     "text": [
      "/Users/dsuman/.pyenv/versions/anaconda3-5.3.0/lib/python3.6/site-packages/IPython/core/magics/pylab.py:160: UserWarning: pylab import has clobbered these variables: ['f', 'shuffle', 'cm']\n",
      "`%matplotlib` prevents importing * from pylab and numpy\n",
      "  \"\\n`%matplotlib` prevents importing * from pylab and numpy\"\n"
     ]
    }
   ],
   "source": [
    "# Import libraries\n",
    "%pylab inline\n",
    "import time\n",
    "import warnings\n",
    "import pandas as pd\n",
    "\n",
    "from sklearn.utils import shuffle\n",
    "from sklearn.preprocessing import normalize\n",
    "from sklearn.metrics import confusion_matrix, precision_recall_fscore_support\n",
    "\n",
    "from keras.utils import to_categorical\n",
    "from keras.layers import Dropout\n",
    "from keras.callbacks import EarlyStopping\n",
    "from keras import models, layers, initializers, regularizers\n",
    "import seaborn as sns"
   ]
  },
  {
   "cell_type": "markdown",
   "metadata": {},
   "source": [
    "## 3. Data description and preprocessing"
   ]
  },
  {
   "cell_type": "markdown",
   "metadata": {},
   "source": [
    "I will be using the provided preprocessed cleveland data for this classification problem. I will substitute the missing values from the rows with the column medians in order to interfere as less as possible with the data integrity. Data will be normalized in order to speed up the computations and provide more accurate (in most cases) predictions. Training and validation data will be split with the following proportion: 2/1 (approximately). Training sets will be split for both analyzed cases (categorical and binary). Based on correlation heatmap will select only columns having postive correlations. "
   ]
  },
  {
   "cell_type": "code",
   "execution_count": 120,
   "metadata": {},
   "outputs": [
    {
     "data": {
      "text/plain": [
       "<matplotlib.axes._subplots.AxesSubplot at 0x1a48f2af98>"
      ]
     },
     "execution_count": 120,
     "metadata": {},
     "output_type": "execute_result"
    },
    {
     "data": {
      "image/png": "[encoded data removed]",
      "text/plain": [
       "<Figure size 720x576 with 2 Axes>"
      ]
     },
     "metadata": {
      "needs_background": "light"
     },
     "output_type": "display_data"
    }
   ],
   "source": [
    "# Import data\n",
    "url = r'http://archive.ics.uci.edu/ml/machine-learning-databases/heart-disease/processed.cleveland.data'\n",
    "dataframe = pd.read_csv(url, \n",
    "                        sep = ',', \n",
    "                        header = None, \n",
    "                        index_col = None,\n",
    "                        na_values = '?')\n",
    "\n",
    "# Add column names\n",
    "name_list = ['age', 'sex', 'cp','trestbps', 'chol', 'fbs','restecg',\n",
    "             'thalac','exang','oldpeak','slope','ca','thal','num']\n",
    "dataframe.columns = name_list\n",
    "\n",
    "# Fill missing data with columnwise median values\n",
    "dataframe = dataframe.fillna(dataframe.median())\n",
    "\n",
    "\n",
    "# Generate correlation heatmap\n",
    "f, ax = plt.subplots(figsize=(10, 8))\n",
    "corr = dataframe.corr()\n",
    "sns.heatmap(corr, mask=np.zeros_like(corr, dtype=np.bool), cmap=sns.diverging_palette(220, 10, as_cmap=True),\n",
    "            square=True, ax=ax)\n"
   ]
  },
  {
   "cell_type": "code",
   "execution_count": 121,
   "metadata": {},
   "outputs": [
    {
     "data": {
      "image/png": "[encoded data removed]",
      "text/plain": [
       "<Figure size 432x288 with 1 Axes>"
      ]
     },
     "metadata": {
      "needs_background": "light"
     },
     "output_type": "display_data"
    },
    {
     "name": "stdout",
     "output_type": "stream",
     "text": [
      "Shape of data and one-hot-labels: (303, 9) (303, 5)\n"
     ]
    }
   ],
   "source": [
    "# Randomize rows\n",
    "dataframe = shuffle(dataframe)\n",
    "dataframe.tail()\n",
    "\n",
    "# Check the descriptive statistics\n",
    "dataframe.describe()\n",
    "\n",
    "# Select the data (input) columns\n",
    "data_list = ['age', 'sex', 'cp','restecg','exang','oldpeak','slope','ca','thal']\n",
    "data = dataframe[data_list]\n",
    "\n",
    "# Scale the data\n",
    "data_min = data.min()\n",
    "data_max = data.max()\n",
    "data_norm = (data - data_min)/(data_max - data_min)\n",
    "\n",
    "# Check descriptive statistics of normalized data\n",
    "data_norm.describe()\n",
    "\n",
    "# Select labels (output)\n",
    "labels = dataframe['num']\n",
    "\n",
    "# Plot the histogram of the labels (severity of the disease)\n",
    "plt.hist(labels, bins = [-0.5, 0.5, 1.5, 2.5, 3.5, 4.5])\n",
    "plt.xlabel('Severity of the disease')\n",
    "plt.ylabel('Frequency')\n",
    "plt.title('Histogram of labels')\n",
    "show()\n",
    "\n",
    "# Code labels to categorical output\n",
    "one_hot_labels = to_categorical(labels)\n",
    "one_hot_labels[:5]\n",
    "\n",
    "# Make binary labels\n",
    "bin_labels = 1.0*(labels > 0.0)\n",
    "\n",
    "# Check the shapes of the normalized data and categorical output\n",
    "print('Shape of data and one-hot-labels:', data_norm.shape, one_hot_labels.shape)\n",
    "\n",
    "# Split the data and labels into training and validation sets\n",
    "train_data = data_norm[:200]\n",
    "val_data = data_norm[200:]\n",
    "train_data_binary = data_norm[:200]\n",
    "val_data_binary = data_norm[200:]\n",
    "\n",
    "train_labels = one_hot_labels[:200]\n",
    "train_labels_binary = bin_labels[:200]\n",
    "val_labels = one_hot_labels[200:]\n",
    "val_labels_binary = bin_labels[200:]"
   ]
  },
  {
   "cell_type": "markdown",
   "metadata": {},
   "source": [
    "## 4. Modeling and compilation\n"
   ]
  },
  {
   "cell_type": "markdown",
   "metadata": {},
   "source": [
    "I will be using, as per assingment, a sequential network of dense layers. Throughout the case study, as to improve the accuracy of the model, and to avoid model overfitting, a series of improvements will be tried out: \n",
    "- Different activation functions (function resposnible for neuron activation on each layer): https://www.analyticsvidhya.com/blog/2017/10/fundamentals-deep-learning-activation-functions-when-to-use-them/\n",
    "- Overfitting regularization techniques: https://www.analyticsvidhya.com/blog/2018/04/fundamentals-deep-learning-regularization-techniques/\n",
    "    1. L1 and L2 parameter tuning. Those are additional input parameters for our cost function.\n",
    "    2. Dropout. At every iteration nodes are selected and dropped in order to generate more randomness.\n",
    "    3. Early stopping. Model training could be stopped once our performance on validation set is getting worse/\n",
    "- Different optimizers (even though ADAM is the optimizer performing better with sparse gradients) https://blog.algorithmia.com/introduction-to-optimizers/\n",
    "- Normalization layer https://towardsdatascience.com/batch-normalization-in-neural-networks-1ac91516821c\n",
    "- Different weight initializers https://machinelearningmastery.com/why-initialize-a-neural-network-with-random-weights/\n",
    "    "
   ]
  },
  {
   "cell_type": "code",
   "execution_count": 265,
   "metadata": {},
   "outputs": [
    {
     "name": "stdout",
     "output_type": "stream",
     "text": [
      "_________________________________________________________________\n",
      "Layer (type)                 Output Shape              Param #   \n",
      "=================================================================\n",
      "dense_165 (Dense)            (None, 9)                 90        \n",
      "_________________________________________________________________\n",
      "dropout_85 (Dropout)         (None, 9)                 0         \n",
      "_________________________________________________________________\n",
      "dense_166 (Dense)            (None, 9)                 90        \n",
      "_________________________________________________________________\n",
      "dense_167 (Dense)            (None, 5)                 50        \n",
      "=================================================================\n",
      "Total params: 230\n",
      "Trainable params: 230\n",
      "Non-trainable params: 0\n",
      "_________________________________________________________________\n"
     ]
    }
   ],
   "source": [
    "# Build the model (categorical classification)\n",
    "model = models.Sequential()\n",
    "model.add(layers.Dense(9, activation='relu', input_shape=(9,),\n",
    "                       kernel_regularizer=regularizers.l1_l2(l1=0.003, l2=0.01),\n",
    "                       kernel_initializer=initializers.glorot_uniform(seed=1)))\n",
    "# model.add(layers.BatchNormalization())\n",
    "model.add(Dropout(0.2))\n",
    "model.add(layers.Dense(9, activation='relu', \n",
    "                       kernel_regularizer=regularizers.l1_l2(l1=0.003, l2=0.01),\n",
    "                       kernel_initializer=initializers.glorot_uniform(seed=1)))\n",
    "model.add(layers.Dense(5, activation='softmax'))\n",
    "model.summary()\n",
    "\n",
    "# Compile the model\n",
    "model.compile(optimizer = 'adam',\n",
    "              loss = 'categorical_crossentropy',\n",
    "              metrics = ['accuracy'])\n"
   ]
  },
  {
   "cell_type": "code",
   "execution_count": 378,
   "metadata": {},
   "outputs": [
    {
     "name": "stdout",
     "output_type": "stream",
     "text": [
      "_________________________________________________________________\n",
      "Layer (type)                 Output Shape              Param #   \n",
      "=================================================================\n",
      "dense_248 (Dense)            (None, 9)                 90        \n",
      "_________________________________________________________________\n",
      "dense_249 (Dense)            (None, 9)                 90        \n",
      "_________________________________________________________________\n",
      "dense_250 (Dense)            (None, 1)                 10        \n",
      "=================================================================\n",
      "Total params: 190\n",
      "Trainable params: 190\n",
      "Non-trainable params: 0\n",
      "_________________________________________________________________\n"
     ]
    }
   ],
   "source": [
    "# Build the model (binary classification)\n",
    "model_binary = models.Sequential()\n",
    "model_binary.add(layers.Dense(9, activation='relu', input_shape=(9,)))\n",
    "model_binary.add(layers.Dense(9, activation='relu'))\n",
    "model_binary.add(layers.Dense(1, activation='sigmoid'))\n",
    "model_binary.summary()\n",
    "\n",
    "# Compile the model\n",
    "model_binary.compile(optimizer = 'adam',\n",
    "                    loss = 'binary_crossentropy',\n",
    "                    metrics = ['accuracy'])"
   ]
  },
  {
   "cell_type": "markdown",
   "metadata": {},
   "source": [
    "## 5. Training and Validation"
   ]
  },
  {
   "cell_type": "code",
   "execution_count": 267,
   "metadata": {},
   "outputs": [
    {
     "name": "stdout",
     "output_type": "stream",
     "text": [
      "Elapsed time: 47.98 seconds\n"
     ]
    }
   ],
   "source": [
    "# Fit the model with the data and keep record on elapsed time\n",
    "t_start = time.time()\n",
    "history = model.fit(train_data, train_labels, \n",
    "                    epochs = 600, \n",
    "                    batch_size = 16, \n",
    "                    verbose = 0,\n",
    "                    validation_data = (val_data, val_labels))\n",
    "t_end = time.time()\n",
    "print('Elapsed time: {:.2f} seconds'.format(t_end - t_start))"
   ]
  },
  {
   "cell_type": "code",
   "execution_count": 379,
   "metadata": {},
   "outputs": [
    {
     "name": "stdout",
     "output_type": "stream",
     "text": [
      "Elapsed time: 13.35 seconds\n"
     ]
    }
   ],
   "source": [
    "early_stopper = EarlyStopping(patience=3)\n",
    "\n",
    "# Fit the model with the data and keep record on elapsed time\n",
    "t_start_binary = time.time()\n",
    "history_binary = model_binary.fit(train_data_binary, train_labels_binary, \n",
    "                    epochs = 800, \n",
    "                    batch_size = 16, \n",
    "                    verbose = 0,\n",
    "                    validation_data = (val_data_binary, val_labels_binary),\n",
    "                    callbacks=[early_stopper])\n",
    "t_end_binary = time.time()\n",
    "print('Elapsed time: {:.2f} seconds'.format(t_end_binary - t_start_binary))"
   ]
  },
  {
   "cell_type": "markdown",
   "metadata": {},
   "source": [
    "## 6. Evaluation"
   ]
  },
  {
   "cell_type": "code",
   "execution_count": 269,
   "metadata": {},
   "outputs": [
    {
     "name": "stdout",
     "output_type": "stream",
     "text": [
      "Best guess: 0.5413\n",
      "Total accuracy: 0.6469\n",
      "Confusion matrix:\n",
      "[[159   2   0   3   0]\n",
      " [ 29   7   5  14   0]\n",
      " [  7   4   3  22   0]\n",
      " [  3   4   1  27   0]\n",
      " [  1   0   0  12   0]]\n",
      "Support:\n",
      " [164  55  36  35  13]\n",
      "Precision: [ 0.799  0.412  0.333  0.346  0.000]\n",
      "Recall:    [ 0.970  0.127  0.083  0.771  0.000]\n",
      "F-score:   [ 0.876  0.194  0.133  0.478  0.000]\n"
     ]
    }
   ],
   "source": [
    "# Get the training data\n",
    "history_dict = history.history\n",
    "loss_values = history_dict['loss']\n",
    "val_loss_values = history_dict['val_loss']\n",
    "acc_values = history_dict['acc']\n",
    "val_acc_values = history_dict['val_acc']\n",
    "epochs = range(1, len(loss_values) + 1)\n",
    "\n",
    "\n",
    "# Print total accuracy and confusion matrix\n",
    "val_predicts = model.predict(data_norm)\n",
    "y_pred = argmax(val_predicts, axis = 1)\n",
    "cm = confusion_matrix(labels, y_pred)\n",
    "\n",
    "# Best guess = Guess that all are normal\n",
    "# ==> Normal cases are correctly classified\n",
    "# Normal cases can be counted by summing all labels that are zeros\n",
    "print('Best guess: {:.4f}'.format(np.sum(labels == 0)/len(labels)))\n",
    "\n",
    "# Accuracy can be calculated from the confusion matrix by\n",
    "# counting all elements in diagonal (=trace of the matrix)\n",
    "print('Total accuracy: {:.4f}'.format(np.trace(cm)/sum(cm)))\n",
    "print('Confusion matrix:')\n",
    "print(cm)\n",
    "\n",
    "\n",
    "\n",
    "# Calculate precision, recall, fscore and support\n",
    "with warnings.catch_warnings():\n",
    "    warnings.simplefilter(\"ignore\")\n",
    "    p, r, f, s = precision_recall_fscore_support(labels, y_pred)\n",
    "\n",
    "# Print precision, recall, fscore and support  \n",
    "np.set_printoptions(formatter={'float': '{: 0.3f}'.format})\n",
    "print('Support:\\n', s)\n",
    "print('Precision:', p)\n",
    "print('Recall:   ', r)\n",
    "print('F-score:  ', f)\n"
   ]
  },
  {
   "cell_type": "code",
   "execution_count": 380,
   "metadata": {},
   "outputs": [
    {
     "name": "stdout",
     "output_type": "stream",
     "text": [
      "103/103 [==============================] - 0s 226us/step\n",
      "Test score: 0.38215600547281287\n",
      "Test accuracy: 0.8252427190252878\n"
     ]
    }
   ],
   "source": [
    "# Get the training data\n",
    "history_dict_binary = history_binary.history\n",
    "loss_values_binary = history_dict_binary['loss']\n",
    "val_loss_values_binary = history_dict_binary['val_loss']\n",
    "acc_values_binary = history_dict_binary['acc']\n",
    "val_acc_values_binary = history_dict_binary['val_acc']\n",
    "epochs_binary = range(1, len(loss_values_binary) + 1)\n",
    "\n",
    "score = model_binary.evaluate(val_data_binary, val_labels_binary, verbose=1)\n",
    "print('Test score:', score[0])\n",
    "print('Test accuracy:', score[1])"
   ]
  },
  {
   "cell_type": "markdown",
   "metadata": {},
   "source": [
    "## 7. Results and Discussion"
   ]
  },
  {
   "cell_type": "markdown",
   "metadata": {},
   "source": [
    "In the graphs down below the training process can be visualized. In the first graph it can be noticed that the validation loss is diverging from the training loss with the growth of epoch numbers. This is a sign of overfitting, a common issue for this dataset. The overfitting efforts taken while trying to preserve accuracy (second graph) include dropout optimization, l1 and l2 parameter tweaking as well as weight initializer per layer. (For more details follow the links in paragraph 4)."
   ]
  },
  {
   "cell_type": "code",
   "execution_count": 272,
   "metadata": {},
   "outputs": [
    {
     "data": {
      "image/png": "[encoded data removed]",
      "text/plain": [
       "<Figure size 432x288 with 1 Axes>"
      ]
     },
     "metadata": {
      "needs_background": "light"
     },
     "output_type": "display_data"
    },
    {
     "data": {
      "image/png": "[encoded data removed]",
      "text/plain": [
       "<Figure size 432x288 with 1 Axes>"
      ]
     },
     "metadata": {
      "needs_background": "light"
     },
     "output_type": "display_data"
    }
   ],
   "source": [
    "import matplotlib.pyplot as plt\n",
    "# Visualize the training process: loss function\n",
    "plt.figure()\n",
    "plt.plot(epochs, loss_values, 'b', label='Training loss')\n",
    "plt.plot(epochs, val_loss_values, 'r', label='Validation loss')\n",
    "plt.xlabel('Epochs')\n",
    "plt.ylabel('Loss')\n",
    "plt.ylim([0, 2])\n",
    "plt.legend()\n",
    "plt.show()\n",
    "\n",
    "# Visualize the accuracy\n",
    "plt.figure()\n",
    "plt.plot(epochs, acc_values, 'b', label='Training acc')\n",
    "plt.plot(epochs, val_acc_values, 'r', label='Validation acc')\n",
    "plt.xlabel('Epochs')\n",
    "plt.ylabel('Accuracy')\n",
    "plt.ylim([0, 1])\n",
    "plt.legend()\n",
    "plt.show()"
   ]
  },
  {
   "cell_type": "code",
   "execution_count": 381,
   "metadata": {},
   "outputs": [
    {
     "data": {
      "image/png": "[encoded data removed]",
      "text/plain": [
       "<Figure size 432x288 with 1 Axes>"
      ]
     },
     "metadata": {
      "needs_background": "light"
     },
     "output_type": "display_data"
    },
    {
     "data": {
      "image/png": "[encoded data removed]",
      "text/plain": [
       "<Figure size 432x288 with 1 Axes>"
      ]
     },
     "metadata": {
      "needs_background": "light"
     },
     "output_type": "display_data"
    }
   ],
   "source": [
    "import matplotlib.pyplot as plt\n",
    "# Visualize the training process: loss function\n",
    "plt.figure()\n",
    "plt.plot(epochs_binary, loss_values_binary, 'b', label='Training loss binary')\n",
    "plt.plot(epochs_binary, val_loss_values_binary, 'r', label='Validation loss binary')\n",
    "plt.xlabel('Epochs binary')\n",
    "plt.ylabel('Loss binary')\n",
    "plt.ylim([0, 2])\n",
    "plt.legend()\n",
    "plt.show()\n",
    "\n",
    "# Visualize the accuracy\n",
    "plt.figure()\n",
    "plt.plot(epochs_binary, acc_values_binary, 'b', label='Training acc binary')\n",
    "plt.plot(epochs_binary, val_acc_values_binary, 'r', label='Validation acc binary')\n",
    "plt.xlabel('Epochs binary')\n",
    "plt.ylabel('Accuracy binary')\n",
    "plt.ylim([0, 1])\n",
    "plt.legend()\n",
    "plt.show()"
   ]
  },
  {
   "cell_type": "markdown",
   "metadata": {},
   "source": [
    "## 8. Conclusions"
   ]
  },
  {
   "cell_type": "markdown",
   "metadata": {},
   "source": [
    "I have started the task by selecting the most releavant feature columns. Although in Deep Learning field feature selection is discouraged (the feature selection itself is done by the NN https://www.researchgate.net/post/Do_Deep_Learning_Networks_use_any_Feature_selection_method_such_as_NSGA_RFE_or_PCA) I have dropped a set of columns which seemed to have close to no correlation according to the heatmap. I have continued with a lot of fine tuning of parameters, required in order to get satisfactory results. I have identified in true randomization the biggest challenge. Considered that NN's are trained using non-deterministic search algorithms (stochastic gradient descent) finding the correct weights for the mapping function requires a set of optimizations. For the categorical classification case study I have used glorot_uniform initializer for the relu activation function for the first two layers, in combination with L1 and L2 parameters. For the binary classification case study I have used two hidden layers with 9 neurons each and relu activation function, in combination with an EarlyStopper callback. The secondary challenge was overfitting, partially addressed in the previously described tweaks. Conidered the small data set, dropout in between layers as added, and batch normalization was considered (leading to worse results). To further improve the accuracy, [k-fold](https://machinelearningmastery.com/k-fold-cross-validation/) will be considered as a potential addition, although a lot of challenges could be solved by extending the dataset size. "
   ]
  }
 ],
 "metadata": {
  "kernelspec": {
   "display_name": "Python 3",
   "language": "python",
   "name": "python3"
  },
  "language_info": {
   "codemirror_mode": {
    "name": "ipython",
    "version": 3
   },
   "file_extension": ".py",
   "mimetype": "text/x-python",
   "name": "python",
   "nbconvert_exporter": "python",
   "pygments_lexer": "ipython3",
   "version": "3.6.8"
  }
 },
 "nbformat": 4,
 "nbformat_minor": 2
}
