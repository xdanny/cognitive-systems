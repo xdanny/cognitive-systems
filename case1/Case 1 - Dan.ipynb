{
 "cells": [
  {
   "cell_type": "markdown",
   "metadata": {},
   "source": [
    "# Case 1\n",
    "Dan Suman<br>\n",
    "Last edited: 27.01.2019<br>\n",
    "Cognitive Systems for Health Technology Applications<br>\n",
    "[Helsinki Metropolia University of Applied Sciences](http://www.metropolia.fi/en/)<br>"
   ]
  },
  {
   "cell_type": "markdown",
   "metadata": {},
   "source": [
    "## 1. Objectives"
   ]
  },
  {
   "cell_type": "markdown",
   "metadata": {},
   "source": [
    "The main objectives for this case study are: \n",
    " - understand the basics of file processing using panda library \n",
    " - create a simple and fast neural network model for the heart disease classification problem using keras"
   ]
  },
  {
   "cell_type": "markdown",
   "metadata": {},
   "source": [
    "## 2. Required libraries\n"
   ]
  },
  {
   "cell_type": "code",
   "execution_count": 11,
   "metadata": {},
   "outputs": [
    {
     "name": "stdout",
     "output_type": "stream",
     "text": [
      "Populating the interactive namespace from numpy and matplotlib\n"
     ]
    },
    {
     "name": "stderr",
     "output_type": "stream",
     "text": [
      "/Users/dsuman/.pyenv/versions/anaconda3-5.3.0/lib/python3.6/site-packages/IPython/core/magics/pylab.py:160: UserWarning: pylab import has clobbered these variables: ['shuffle']\n",
      "`%matplotlib` prevents importing * from pylab and numpy\n",
      "  \"\\n`%matplotlib` prevents importing * from pylab and numpy\"\n"
     ]
    }
   ],
   "source": [
    "# Import libraries\n",
    "%pylab inline\n",
    "import time\n",
    "import warnings\n",
    "import pandas as pd\n",
    "\n",
    "from sklearn.utils import shuffle\n",
    "from sklearn.preprocessing import normalize\n",
    "from sklearn.metrics import confusion_matrix, precision_recall_fscore_support\n",
    "\n",
    "from keras.utils import to_categorical\n",
    "from keras.layers import Dropout\n",
    "from keras import models, layers, initializers, regularizers"
   ]
  },
  {
   "cell_type": "markdown",
   "metadata": {},
   "source": [
    "## 3. Data description and preprocessing"
   ]
  },
  {
   "cell_type": "markdown",
   "metadata": {},
   "source": [
    "I will be using the provided preprocessed cleveland data for this classification problem. I will substitute the missing values from the rows with the column medians in order to interfere as less as possible with the data integrity. Data will be normalized in order to speed up the computations and provide more accurate (in most cases) predictions. Training and validation data will be split with the following proportion: 2/1 (approximately). "
   ]
  },
  {
   "cell_type": "code",
   "execution_count": 12,
   "metadata": {},
   "outputs": [
    {
     "data": {
      "image/png": "[encoded data removed]",
      "text/plain": [
       "<Figure size 432x288 with 1 Axes>"
      ]
     },
     "metadata": {
      "needs_background": "light"
     },
     "output_type": "display_data"
    },
    {
     "name": "stdout",
     "output_type": "stream",
     "text": [
      "Shape of data and one-hot-labels: (303, 13) (303, 5)\n"
     ]
    }
   ],
   "source": [
    "# Import data\n",
    "url = r'http://archive.ics.uci.edu/ml/machine-learning-databases/heart-disease/processed.cleveland.data'\n",
    "dataframe = pd.read_csv(url, \n",
    "                        sep = ',', \n",
    "                        header = None, \n",
    "                        index_col = None,\n",
    "                        na_values = '?')\n",
    "\n",
    "# Add column names\n",
    "name_list = ['age', 'sex', 'cp','trestbps', 'chol', 'fbs','restecg',\n",
    "             'thalac','exang','oldpeak','slope','ca','thal','num']\n",
    "dataframe.columns = name_list\n",
    "\n",
    "# Fill missing data with columnwise median values\n",
    "dataframe = dataframe.fillna(dataframe.median())\n",
    "\n",
    "# Randomize rows\n",
    "dataframe = shuffle(dataframe)\n",
    "dataframe.tail()\n",
    "\n",
    "# Check the descriptive statistics\n",
    "dataframe.describe()\n",
    "\n",
    "# Select the data (input) columns\n",
    "data_list = ['age', 'sex', 'cp','trestbps', 'chol', 'fbs','restecg',\n",
    "             'thalac','exang','oldpeak','slope','ca','thal']\n",
    "data = dataframe[data_list]\n",
    "\n",
    "# Scale the data\n",
    "data_min = data.min()\n",
    "data_max = data.max()\n",
    "data_norm = (data - data_min)/(data_max - data_min)\n",
    "\n",
    "# Check descriptive statistics of normalized data\n",
    "data_norm.describe()\n",
    "\n",
    "# Select labels (output)\n",
    "labels = dataframe['num']\n",
    "\n",
    "# Plot the histogram of the labels (severity of the disease)\n",
    "plt.hist(labels, bins = [-0.5, 0.5, 1.5, 2.5, 3.5, 4.5])\n",
    "plt.xlabel('Severity of the disease')\n",
    "plt.ylabel('Frequency')\n",
    "plt.title('Histogram of labels')\n",
    "show()\n",
    "\n",
    "# Code labels to categorical output\n",
    "one_hot_labels = to_categorical(labels)\n",
    "one_hot_labels[:5]\n",
    "\n",
    "# Check the shapes of the normalized data and categorical output\n",
    "print('Shape of data and one-hot-labels:', data_norm.shape, one_hot_labels.shape)\n",
    "\n",
    "# Split the data and labels into training and validation sets\n",
    "train_data = data_norm[:200]\n",
    "val_data = data_norm[200:]\n",
    "\n",
    "train_labels = one_hot_labels[:200]\n",
    "val_labels = one_hot_labels[200:]"
   ]
  },
  {
   "cell_type": "markdown",
   "metadata": {},
   "source": [
    "## 4. Modeling and compilation\n"
   ]
  },
  {
   "cell_type": "markdown",
   "metadata": {},
   "source": [
    "I will be using, as per assingment, a sequential network of dense layers. Throughout the case study, as to improve the accuracy of the model, and to avoid model overfitting, a series of improvements will be tried out: \n",
    "- Different activation functions (function resposnible for neuron activation on each layer): https://www.analyticsvidhya.com/blog/2017/10/fundamentals-deep-learning-activation-functions-when-to-use-them/\n",
    "- Overfitting regularization techniques: https://www.analyticsvidhya.com/blog/2018/04/fundamentals-deep-learning-regularization-techniques/\n",
    "    1. L1 and L2 parameter tuning. Those are additional input parameters for our cost function.\n",
    "    2. Dropout. At every iteration nodes are selected and dropped in order to generate more randomness.\n",
    "    3. Early stopping. Model training could be stopped once our performance on validation set is getting worse/\n",
    "- Different optimizers (even though ADAM is the optimizer performing better with sparse gradients) https://blog.algorithmia.com/introduction-to-optimizers/\n",
    "- Normalization layer https://towardsdatascience.com/batch-normalization-in-neural-networks-1ac91516821c\n",
    "- Different weight initializers https://machinelearningmastery.com/why-initialize-a-neural-network-with-random-weights/\n",
    "    "
   ]
  },
  {
   "cell_type": "code",
   "execution_count": 83,
   "metadata": {},
   "outputs": [
    {
     "name": "stdout",
     "output_type": "stream",
     "text": [
      "_________________________________________________________________\n",
      "Layer (type)                 Output Shape              Param #   \n",
      "=================================================================\n",
      "dense_45 (Dense)             (None, 512)               7168      \n",
      "_________________________________________________________________\n",
      "dropout_29 (Dropout)         (None, 512)               0         \n",
      "_________________________________________________________________\n",
      "dense_46 (Dense)             (None, 256)               131328    \n",
      "_________________________________________________________________\n",
      "dropout_30 (Dropout)         (None, 256)               0         \n",
      "_________________________________________________________________\n",
      "dense_47 (Dense)             (None, 5)                 1285      \n",
      "=================================================================\n",
      "Total params: 139,781\n",
      "Trainable params: 139,781\n",
      "Non-trainable params: 0\n",
      "_________________________________________________________________\n"
     ]
    }
   ],
   "source": [
    "# Build the model\n",
    "model = models.Sequential()\n",
    "model.add(layers.Dense(512, activation='relu', input_shape=(13,),\n",
    "                       kernel_regularizer=regularizers.l1_l2(l1=0.001, l2=0.01),\n",
    "                       kernel_initializer=initializers.glorot_uniform(seed=0)))\n",
    "# model.add(layers.BatchNormalization())\n",
    "model.add(Dropout(0.8))\n",
    "model.add(layers.Dense(256, activation='relu', kernel_initializer=initializers.glorot_uniform(seed=0)))\n",
    "model.add(Dropout(0.4))\n",
    "model.add(layers.Dense(5, activation='softmax'))\n",
    "model.summary()\n",
    "\n",
    "# Compile the model\n",
    "model.compile(optimizer = 'adam',\n",
    "                loss = 'categorical_crossentropy',\n",
    "                metrics = ['accuracy'])\n"
   ]
  },
  {
   "cell_type": "markdown",
   "metadata": {},
   "source": [
    "## 5. Training and Validation"
   ]
  },
  {
   "cell_type": "code",
   "execution_count": 84,
   "metadata": {},
   "outputs": [
    {
     "name": "stdout",
     "output_type": "stream",
     "text": [
      "Elapsed time: 47.06 seconds\n"
     ]
    }
   ],
   "source": [
    "# Fit the model with the data and keep record on elapsed time\n",
    "t_start = time.time()\n",
    "history = model.fit(train_data, train_labels, \n",
    "                    epochs = 300, \n",
    "                    batch_size = 16, \n",
    "                    verbose = 0,\n",
    "                    validation_data = (val_data, val_labels))\n",
    "t_end = time.time()\n",
    "print('Elapsed time: {:.2f} seconds'.format(t_end - t_start))"
   ]
  },
  {
   "cell_type": "markdown",
   "metadata": {},
   "source": [
    "## 6. Evaluation"
   ]
  },
  {
   "cell_type": "code",
   "execution_count": 85,
   "metadata": {},
   "outputs": [
    {
     "name": "stdout",
     "output_type": "stream",
     "text": [
      "Best guess: 0.5413\n",
      "Total accuracy: 0.6898\n",
      "Confusion matrix:\n",
      "[[150   9   5   0   0]\n",
      " [ 16  17   9  13   0]\n",
      " [  0   5  13  15   3]\n",
      " [  0   3   6  24   2]\n",
      " [  0   0   1   7   5]]\n",
      "Support:\n",
      " [164  55  36  35  13]\n",
      "Precision: [ 0.904  0.500  0.382  0.407  0.500]\n",
      "Recall:    [ 0.915  0.309  0.361  0.686  0.385]\n",
      "F-score:   [ 0.909  0.382  0.371  0.511  0.435]\n"
     ]
    }
   ],
   "source": [
    "# Get the training data\n",
    "history_dict = history.history\n",
    "loss_values = history_dict['loss']\n",
    "val_loss_values = history_dict['val_loss']\n",
    "acc_values = history_dict['acc']\n",
    "val_acc_values = history_dict['val_acc']\n",
    "epochs = range(1, len(loss_values) + 1)\n",
    "\n",
    "\n",
    "# Print total accuracy and confusion matrix\n",
    "val_predicts = model.predict(data_norm)\n",
    "y_pred = argmax(val_predicts, axis = 1)\n",
    "cm = confusion_matrix(labels, y_pred)\n",
    "\n",
    "# Best guess = Guess that all are normal\n",
    "# ==> Normal cases are correctly classified\n",
    "# Normal cases can be counted by summing all labels that are zeros\n",
    "print('Best guess: {:.4f}'.format(np.sum(labels == 0)/len(labels)))\n",
    "\n",
    "# Accuracy can be calculated from the confusion matrix by\n",
    "# counting all elements in diagonal (=trace of the matrix)\n",
    "print('Total accuracy: {:.4f}'.format(np.trace(cm)/sum(cm)))\n",
    "print('Confusion matrix:')\n",
    "print(cm)\n",
    "\n",
    "\n",
    "\n",
    "# Calculate precision, recall, fscore and support\n",
    "with warnings.catch_warnings():\n",
    "    warnings.simplefilter(\"ignore\")\n",
    "    p, r, f, s = precision_recall_fscore_support(labels, y_pred)\n",
    "\n",
    "# Print precision, recall, fscore and support  \n",
    "np.set_printoptions(formatter={'float': '{: 0.3f}'.format})\n",
    "print('Support:\\n', s)\n",
    "print('Precision:', p)\n",
    "print('Recall:   ', r)\n",
    "print('F-score:  ', f)\n"
   ]
  },
  {
   "cell_type": "markdown",
   "metadata": {},
   "source": [
    "## 7. Results and Discussion"
   ]
  },
  {
   "cell_type": "markdown",
   "metadata": {},
   "source": [
    "In the graphs down below the training process can be visualized. In the first graph it can be noticed that the validation loss is diverging from the training loss with the growth of epoch numbers. This is a sign of overfitting, a common issue for this dataset. The overfitting efforts taken while trying to preserve accuracy (second graph) include dropout optimization, l1 and l2 parameter tweaking as well as weight initializer per layer. (For more details follow the links in paragraph 4)."
   ]
  },
  {
   "cell_type": "code",
   "execution_count": 86,
   "metadata": {},
   "outputs": [
    {
     "data": {
      "image/png": "[encoded data removed]",
      "text/plain": [
       "<Figure size 432x288 with 1 Axes>"
      ]
     },
     "metadata": {
      "needs_background": "light"
     },
     "output_type": "display_data"
    },
    {
     "data": {
      "image/png": "[encoded data removed]",
      "text/plain": [
       "<Figure size 432x288 with 1 Axes>"
      ]
     },
     "metadata": {
      "needs_background": "light"
     },
     "output_type": "display_data"
    }
   ],
   "source": [
    "import matplotlib.pyplot as plt\n",
    "# Visualize the training process: loss function\n",
    "plt.figure()\n",
    "plt.plot(epochs, loss_values, 'b', label='Training loss')\n",
    "plt.plot(epochs, val_loss_values, 'r', label='Validation loss')\n",
    "plt.xlabel('Epochs')\n",
    "plt.ylabel('Loss')\n",
    "plt.ylim([0, 2])\n",
    "plt.legend()\n",
    "plt.show()\n",
    "\n",
    "# Visualize the accuracy\n",
    "plt.figure()\n",
    "plt.plot(epochs, acc_values, 'b', label='Training acc')\n",
    "plt.plot(epochs, val_acc_values, 'r', label='Validation acc')\n",
    "plt.xlabel('Epochs')\n",
    "plt.ylabel('Accuracy')\n",
    "plt.ylim([0, 1])\n",
    "plt.legend()\n",
    "plt.show()"
   ]
  },
  {
   "cell_type": "markdown",
   "metadata": {},
   "source": [
    "## 8. Conclusions"
   ]
  },
  {
   "cell_type": "markdown",
   "metadata": {},
   "source": [
    "As illustrated in the previous paragraphs: a lot of fine tuning of parameters is required in order to get satisfactory results. I have identified in true randomization the biggest challenge. Considered that NN's are trained using non-deterministic search algorithms (stochastic gradient descent) finding the correct weights for the mapping function requires a set of optimizations. For this case study I have used glorot_uniform initializer for the relu activation function for the first two layers, in combination with L1 and L2 parameters. The secondary challenge was overfitting, partially addressed in the previously described tweaks. Conidered the small data set, dropout in between layers as added, and batch normalization was considered (leading to worse results). To further improve the accuracy, [k-fold](https://machinelearningmastery.com/k-fold-cross-validation/) will be considered as a potential addition, although a lot of challenges could be solved by extending the dataset size."
   ]
  },
  {
   "cell_type": "code",
   "execution_count": null,
   "metadata": {},
   "outputs": [],
   "source": []
  }
 ],
 "metadata": {
  "kernelspec": {
   "display_name": "Python 3",
   "language": "python",
   "name": "python3"
  },
  "language_info": {
   "codemirror_mode": {
    "name": "ipython",
    "version": 3
   },
   "file_extension": ".py",
   "mimetype": "text/x-python",
   "name": "python",
   "nbconvert_exporter": "python",
   "pygments_lexer": "ipython3",
   "version": "3.6.8"
  }
 },
 "nbformat": 4,
 "nbformat_minor": 2
}
