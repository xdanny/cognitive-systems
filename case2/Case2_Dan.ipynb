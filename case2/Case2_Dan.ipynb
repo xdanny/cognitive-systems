{
 "cells": [
  {
   "cell_type": "markdown",
   "metadata": {},
   "source": [
    "# Case 2\n",
    "Dan Suman<br>\n",
    "Last edited: 03.03.2019<br>\n",
    "Cognitive Systems for Health Technology Applications<br>\n",
    "[Helsinki Metropolia University of Applied Sciences](http://www.metropolia.fi/en/)<br>"
   ]
  },
  {
   "cell_type": "markdown",
   "metadata": {},
   "source": [
    "## 1. Objectives"
   ]
  },
  {
   "cell_type": "markdown",
   "metadata": {},
   "source": [
    "Diabetic retinopathy is the leading cause of blindness in the working-age population of the developed world. It is estimated to affect over 93 million people. In this case study we will try to predict, based on a set of labelled images, if the patient is affected by this disease. We will preprocess the images in order to put an emphasis on the symptopms and try to create an accurate model based on CNN in order to do that. "
   ]
  },
  {
   "cell_type": "markdown",
   "metadata": {},
   "source": [
    "## 2. Required libraries"
   ]
  },
  {
   "cell_type": "code",
   "execution_count": 4,
   "metadata": {},
   "outputs": [],
   "source": [
    "# Required libraries\n",
    "import numpy as np\n",
    "import matplotlib.pyplot as plt\n",
    "import keras\n",
    "\n",
    "from keras.models import Sequential\n",
    "from keras.layers import Conv2D, MaxPooling2D, Flatten, Dense, Dropout, ZeroPadding2D\n",
    "from keras.layers.advanced_activations import LeakyReLU\n",
    "%matplotlib inline"
   ]
  },
  {
   "cell_type": "markdown",
   "metadata": {},
   "source": [
    "## 3. Data description and preprocessing"
   ]
  },
  {
   "cell_type": "markdown",
   "metadata": {},
   "source": [
    "We will first download a set of preprocessed data (run git clone https://github.com/Nomikxyz/retinopathy-dataset), then run the steps below to create the required directories."
   ]
  },
  {
   "cell_type": "code",
   "execution_count": 1,
   "metadata": {
    "collapsed": true
   },
   "outputs": [],
   "source": [
    "import os, shutil\n",
    "# List all filenames in the master dataset and count how many samples there are\n",
    "original_dir = './retinopathy-dataset'\n",
    "\n",
    "class1 = 'nosymptoms'\n",
    "original_nosymptoms_dir = os.path.join(original_dir, class1)\n",
    "nosymptoms_fnames = os.listdir(original_nosymptoms_dir)\n",
    "\n",
    "class2 = 'symptoms'\n",
    "original_symptoms_dir = os.path.join(original_dir, class2)\n",
    "symptoms_fnames = os.listdir(original_symptoms_dir)\n",
    "\n",
    "len(nosymptoms_fnames), len(symptoms_fnames)\n"
   ]
  },
  {
   "cell_type": "code",
   "execution_count": null,
   "metadata": {},
   "outputs": [],
   "source": [
    "# Base directory is where the datasets will be created\n",
    "base_dir = './dataset2'\n",
    "\n",
    "# For training set\n",
    "sub_dir = 'train'\n",
    "train_dir = os.path.join(base_dir, sub_dir)\n",
    "train_nosymptoms_dir = os.path.join(base_dir, sub_dir, class1)\n",
    "train_symptoms_dir = os.path.join(base_dir, sub_dir, class2)\n",
    "\n",
    "# For validation set\n",
    "sub_dir = 'validation'\n",
    "validation_dir = os.path.join(base_dir, sub_dir)\n",
    "validation_nosymptoms_dir = os.path.join(base_dir, sub_dir, class1)\n",
    "validation_symptoms_dir = os.path.join(base_dir, sub_dir, class2)\n",
    "\n",
    "# For test set\n",
    "sub_dir = 'test'\n",
    "test_dir = os.path.join(base_dir, sub_dir)\n",
    "test_nosymptoms_dir = os.path.join(base_dir, sub_dir, class1)\n",
    "test_symptoms_dir = os.path.join(base_dir, sub_dir, class2)"
   ]
  },
  {
   "cell_type": "code",
   "execution_count": null,
   "metadata": {},
   "outputs": [],
   "source": [
    "try:\n",
    "    print('Creating dataset folders to:', base_dir)\n",
    "    os.mkdir(base_dir)\n",
    "    os.mkdir(train_dir)\n",
    "    os.mkdir(train_nosymptoms_dir)\n",
    "    os.mkdir(train_symptoms_dir)\n",
    "    os.mkdir(validation_dir)\n",
    "    os.mkdir(validation_nosymptoms_dir)\n",
    "    os.mkdir(validation_symptoms_dir)\n",
    "    os.mkdir(test_dir)\n",
    "    os.mkdir(test_nosymptoms_dir)\n",
    "    os.mkdir(test_symptoms_dir)\n",
    "    print('Done.')\n",
    "except:\n",
    "    print('Error:')\n",
    "    print(base_dir, 'already exists!')"
   ]
  },
  {
   "cell_type": "code",
   "execution_count": null,
   "metadata": {},
   "outputs": [],
   "source": [
    "from sklearn.model_selection import train_test_split\n",
    "from numpy import random"
   ]
  },
  {
   "cell_type": "code",
   "execution_count": null,
   "metadata": {},
   "outputs": [],
   "source": [
    "# Set the random seed\n",
    "random.seed(2019)\n",
    "\n",
    "# Disease (symptom) cases split\n",
    "\n",
    "# Take 25 % out for testing\n",
    "train_symptoms_fnames, test_symptoms_fnames = train_test_split(symptoms_fnames, test_size = 0.25)\n",
    "\n",
    "# From the remaining images take 1/3 out for validation (= (1-0.25)*1/3 = 0.25)\n",
    "train_symptoms_fnames, validation_symptoms_fnames = train_test_split(train_symptoms_fnames, test_size = 1.0/3.0)\n",
    "\n",
    "len(train_symptoms_fnames), len(validation_symptoms_fnames), len(test_symptoms_fnames)"
   ]
  },
  {
   "cell_type": "code",
   "execution_count": null,
   "metadata": {},
   "outputs": [],
   "source": [
    "# Healthy (nosyptom) cases split\n",
    "# Take 25 % out for testing\n",
    "train_nosymptoms_fnames, test_nosymptoms_fnames = train_test_split(nosymptoms_fnames, test_size = 0.25)\n",
    "\n",
    "# From the remaining take 1/3 out for validation\n",
    "train_nosymptoms_fnames, validation_nosymptoms_fnames = train_test_split(train_nosymptoms_fnames, test_size = 1.0/3.0)\n",
    "\n",
    "len(train_nosymptoms_fnames), len(validation_nosymptoms_fnames), len(test_nosymptoms_fnames)"
   ]
  },
  {
   "cell_type": "code",
   "execution_count": 2,
   "metadata": {},
   "outputs": [],
   "source": [
    "import time\n",
    "\n",
    "tStart = time.time()\n",
    "\n",
    "# Copy the original files into the dataset folders\n",
    "\n",
    "# Training set\n",
    "# Disease \n",
    "for fname in train_symptoms_fnames:\n",
    "    src = os.path.join(original_symptoms_dir, fname)\n",
    "    dst = os.path.join(train_symptoms_dir, fname)\n",
    "    shutil.copyfile(src, dst)\n",
    "# Healthy \n",
    "for fname in train_nosymptoms_fnames:\n",
    "    src = os.path.join(original_nosymptoms_dir, fname)\n",
    "    dst = os.path.join(train_nosymptoms_dir, fname)\n",
    "    shutil.copyfile(src, dst)\n",
    "\n",
    "# Validation set\n",
    "# Disease \n",
    "for fname in validation_symptoms_fnames:\n",
    "    src = os.path.join(original_symptoms_dir, fname)\n",
    "    dst = os.path.join(validation_symptoms_dir, fname)\n",
    "    shutil.copyfile(src, dst)\n",
    "# Healthy\n",
    "for fname in validation_nosymptoms_fnames:\n",
    "    src = os.path.join(original_nosymptoms_dir, fname)\n",
    "    dst = os.path.join(validation_nosymptoms_dir, fname)\n",
    "    shutil.copyfile(src, dst)\n",
    "\n",
    "# Test set\n",
    "# Disease\n",
    "for fname in test_symptoms_fnames:\n",
    "    src = os.path.join(original_symptoms_dir, fname)\n",
    "    dst = os.path.join(test_symptoms_dir, fname)\n",
    "    shutil.copyfile(src, dst)\n",
    "# Healthy\n",
    "for fname in test_nosymptoms_fnames:\n",
    "    src = os.path.join(original_nosymptoms_dir, fname)\n",
    "    dst = os.path.join(test_nosymptoms_dir, fname)\n",
    "    shutil.copyfile(src, dst)\n",
    "\n",
    "tStop = time.time()\n",
    "tElapsed = tStop - tStart\n",
    "print('Time elapsed: {:.2f} sec'.format(tElapsed))"
   ]
  },
  {
   "cell_type": "markdown",
   "metadata": {},
   "source": [
    "## 4. Modeling and compilation\n",
    "\n",
    "\n"
   ]
  },
  {
   "cell_type": "markdown",
   "metadata": {},
   "source": []
  },
  {
   "cell_type": "code",
   "execution_count": 17,
   "metadata": {},
   "outputs": [
    {
     "name": "stderr",
     "output_type": "stream",
     "text": [
      "C:\\Users\\dansu\\AppData\\Local\\Continuum\\anaconda3\\envs\\py36\\lib\\site-packages\\ipykernel_launcher.py:18: UserWarning: Update your `Conv2D` call to the Keras 2 API: `Conv2D(64, (3, 3), activation=\"relu\")`\n",
      "C:\\Users\\dansu\\AppData\\Local\\Continuum\\anaconda3\\envs\\py36\\lib\\site-packages\\ipykernel_launcher.py:20: UserWarning: Update your `Conv2D` call to the Keras 2 API: `Conv2D(64, (3, 3), activation=\"relu\")`\n",
      "C:\\Users\\dansu\\AppData\\Local\\Continuum\\anaconda3\\envs\\py36\\lib\\site-packages\\ipykernel_launcher.py:25: UserWarning: Update your `Conv2D` call to the Keras 2 API: `Conv2D(64, (3, 3), activation=\"relu\")`\n",
      "C:\\Users\\dansu\\AppData\\Local\\Continuum\\anaconda3\\envs\\py36\\lib\\site-packages\\ipykernel_launcher.py:27: UserWarning: Update your `Conv2D` call to the Keras 2 API: `Conv2D(64, (3, 3), activation=\"relu\")`\n",
      "C:\\Users\\dansu\\AppData\\Local\\Continuum\\anaconda3\\envs\\py36\\lib\\site-packages\\ipykernel_launcher.py:31: UserWarning: Update your `Conv2D` call to the Keras 2 API: `Conv2D(64, (3, 3), activation=\"relu\")`\n",
      "C:\\Users\\dansu\\AppData\\Local\\Continuum\\anaconda3\\envs\\py36\\lib\\site-packages\\ipykernel_launcher.py:33: UserWarning: Update your `Conv2D` call to the Keras 2 API: `Conv2D(64, (3, 3), activation=\"relu\")`\n",
      "C:\\Users\\dansu\\AppData\\Local\\Continuum\\anaconda3\\envs\\py36\\lib\\site-packages\\ipykernel_launcher.py:35: UserWarning: Update your `Conv2D` call to the Keras 2 API: `Conv2D(64, (3, 3), activation=\"relu\")`\n",
      "C:\\Users\\dansu\\AppData\\Local\\Continuum\\anaconda3\\envs\\py36\\lib\\site-packages\\ipykernel_launcher.py:39: UserWarning: Update your `Conv2D` call to the Keras 2 API: `Conv2D(64, (3, 3), activation=\"relu\")`\n",
      "C:\\Users\\dansu\\AppData\\Local\\Continuum\\anaconda3\\envs\\py36\\lib\\site-packages\\ipykernel_launcher.py:41: UserWarning: Update your `Conv2D` call to the Keras 2 API: `Conv2D(64, (3, 3), activation=\"relu\")`\n",
      "C:\\Users\\dansu\\AppData\\Local\\Continuum\\anaconda3\\envs\\py36\\lib\\site-packages\\ipykernel_launcher.py:43: UserWarning: Update your `Conv2D` call to the Keras 2 API: `Conv2D(64, (3, 3), activation=\"relu\")`\n"
     ]
    },
    {
     "name": "stdout",
     "output_type": "stream",
     "text": [
      "_________________________________________________________________\n",
      "Layer (type)                 Output Shape              Param #   \n",
      "=================================================================\n",
      "zero_padding2d_27 (ZeroPaddi (None, 258, 258, 3)       0         \n",
      "_________________________________________________________________\n",
      "conv2d_27 (Conv2D)           (None, 256, 256, 64)      1792      \n",
      "_________________________________________________________________\n",
      "zero_padding2d_28 (ZeroPaddi (None, 258, 258, 64)      0         \n",
      "_________________________________________________________________\n",
      "conv2d_28 (Conv2D)           (None, 256, 256, 64)      36928     \n",
      "_________________________________________________________________\n",
      "max_pooling2d_11 (MaxPooling (None, 128, 128, 64)      0         \n",
      "_________________________________________________________________\n",
      "zero_padding2d_29 (ZeroPaddi (None, 130, 130, 64)      0         \n",
      "_________________________________________________________________\n",
      "conv2d_29 (Conv2D)           (None, 128, 128, 64)      36928     \n",
      "_________________________________________________________________\n",
      "zero_padding2d_30 (ZeroPaddi (None, 130, 130, 64)      0         \n",
      "_________________________________________________________________\n",
      "conv2d_30 (Conv2D)           (None, 128, 128, 64)      36928     \n",
      "_________________________________________________________________\n",
      "max_pooling2d_12 (MaxPooling (None, 64, 64, 64)        0         \n",
      "_________________________________________________________________\n",
      "zero_padding2d_31 (ZeroPaddi (None, 66, 66, 64)        0         \n",
      "_________________________________________________________________\n",
      "conv2d_31 (Conv2D)           (None, 64, 64, 64)        36928     \n",
      "_________________________________________________________________\n",
      "zero_padding2d_32 (ZeroPaddi (None, 66, 66, 64)        0         \n",
      "_________________________________________________________________\n",
      "conv2d_32 (Conv2D)           (None, 64, 64, 64)        36928     \n",
      "_________________________________________________________________\n",
      "zero_padding2d_33 (ZeroPaddi (None, 66, 66, 64)        0         \n",
      "_________________________________________________________________\n",
      "conv2d_33 (Conv2D)           (None, 64, 64, 64)        36928     \n",
      "_________________________________________________________________\n",
      "max_pooling2d_13 (MaxPooling (None, 32, 32, 64)        0         \n",
      "_________________________________________________________________\n",
      "zero_padding2d_34 (ZeroPaddi (None, 34, 34, 64)        0         \n",
      "_________________________________________________________________\n",
      "conv2d_34 (Conv2D)           (None, 32, 32, 64)        36928     \n",
      "_________________________________________________________________\n",
      "zero_padding2d_35 (ZeroPaddi (None, 34, 34, 64)        0         \n",
      "_________________________________________________________________\n",
      "conv2d_35 (Conv2D)           (None, 32, 32, 64)        36928     \n",
      "_________________________________________________________________\n",
      "zero_padding2d_36 (ZeroPaddi (None, 34, 34, 64)        0         \n",
      "_________________________________________________________________\n",
      "conv2d_36 (Conv2D)           (None, 32, 32, 64)        36928     \n",
      "_________________________________________________________________\n",
      "max_pooling2d_14 (MaxPooling (None, 16, 16, 64)        0         \n",
      "_________________________________________________________________\n",
      "zero_padding2d_37 (ZeroPaddi (None, 18, 18, 64)        0         \n",
      "_________________________________________________________________\n",
      "conv2d_37 (Conv2D)           (None, 16, 16, 64)        36928     \n",
      "_________________________________________________________________\n",
      "zero_padding2d_38 (ZeroPaddi (None, 18, 18, 64)        0         \n",
      "_________________________________________________________________\n",
      "conv2d_38 (Conv2D)           (None, 16, 16, 64)        36928     \n",
      "_________________________________________________________________\n",
      "zero_padding2d_39 (ZeroPaddi (None, 18, 18, 64)        0         \n",
      "_________________________________________________________________\n",
      "conv2d_39 (Conv2D)           (None, 16, 16, 64)        36928     \n",
      "_________________________________________________________________\n",
      "max_pooling2d_15 (MaxPooling (None, 8, 8, 64)          0         \n",
      "_________________________________________________________________\n",
      "flatten_3 (Flatten)          (None, 4096)              0         \n",
      "_________________________________________________________________\n",
      "dense_7 (Dense)              (None, 4096)              16781312  \n",
      "_________________________________________________________________\n",
      "dropout_5 (Dropout)          (None, 4096)              0         \n",
      "_________________________________________________________________\n",
      "dense_8 (Dense)              (None, 4096)              16781312  \n",
      "_________________________________________________________________\n",
      "dropout_6 (Dropout)          (None, 4096)              0         \n",
      "_________________________________________________________________\n",
      "dense_9 (Dense)              (None, 1)                 4097      \n",
      "=================================================================\n",
      "Total params: 34,011,649\n",
      "Trainable params: 34,011,649\n",
      "Non-trainable params: 0\n",
      "_________________________________________________________________\n"
     ]
    },
    {
     "name": "stderr",
     "output_type": "stream",
     "text": [
      "C:\\Users\\dansu\\AppData\\Local\\Continuum\\anaconda3\\envs\\py36\\lib\\site-packages\\ipykernel_launcher.py:47: UserWarning: Update your `Conv2D` call to the Keras 2 API: `Conv2D(64, (3, 3), activation=\"relu\")`\n",
      "C:\\Users\\dansu\\AppData\\Local\\Continuum\\anaconda3\\envs\\py36\\lib\\site-packages\\ipykernel_launcher.py:49: UserWarning: Update your `Conv2D` call to the Keras 2 API: `Conv2D(64, (3, 3), activation=\"relu\")`\n",
      "C:\\Users\\dansu\\AppData\\Local\\Continuum\\anaconda3\\envs\\py36\\lib\\site-packages\\ipykernel_launcher.py:51: UserWarning: Update your `Conv2D` call to the Keras 2 API: `Conv2D(64, (3, 3), activation=\"relu\")`\n"
     ]
    }
   ],
   "source": [
    "\n",
    "# model = Sequential()\n",
    "# model.add(Conv2D(filters=16, kernel_size=2, padding='same', activation='relu', \n",
    "#                         input_shape=(256, 256, 3)))\n",
    "# model.add(MaxPooling2D(pool_size=2))\n",
    "# model.add(Conv2D(filters=32, kernel_size=2, padding='same', activation='relu'))\n",
    "# model.add(MaxPooling2D(pool_size=2))\n",
    "# model.add(Conv2D(filters=64, kernel_size=2, padding='same', activation='relu'))\n",
    "# model.add(MaxPooling2D(pool_size=2))\n",
    "# model.add(Dropout(0.3))\n",
    "# model.add(Flatten())\n",
    "# model.add(Dense(500, activation='relu'))\n",
    "# model.add(Dropout(0.4))\n",
    "# model.add(Dense(1, activation='sigmoid'))\n",
    "\n",
    "model = Sequential()\n",
    "model.add(ZeroPadding2D((1,1), input_shape=(256, 256, 3)))\n",
    "model.add(Conv2D(64, 3, 3, activation='relu'))\n",
    "model.add(ZeroPadding2D((1,1)))\n",
    "model.add(Conv2D(64, 3, 3, activation='relu'))\n",
    "\n",
    "model.add(MaxPooling2D((2,2), strides=(2,2)))\n",
    "\n",
    "model.add(ZeroPadding2D((1,1)))\n",
    "model.add(Conv2D(64, 3, 3, activation='relu'))\n",
    "model.add(ZeroPadding2D((1,1)))\n",
    "model.add(Conv2D(64, 3, 3, activation='relu'))\n",
    "model.add(MaxPooling2D(pool_size=2))\n",
    "\n",
    "model.add(ZeroPadding2D((1,1)))\n",
    "model.add(Conv2D(64, 3, 3, activation='relu'))\n",
    "model.add(ZeroPadding2D((1,1)))\n",
    "model.add(Conv2D(64, 3, 3, activation='relu'))\n",
    "model.add(ZeroPadding2D((1,1)))\n",
    "model.add(Conv2D(64, 3, 3, activation='relu'))\n",
    "model.add(MaxPooling2D(pool_size=2))\n",
    "\n",
    "model.add(ZeroPadding2D((1,1)))\n",
    "model.add(Conv2D(64, 3, 3, activation='relu'))\n",
    "model.add(ZeroPadding2D((1,1)))\n",
    "model.add(Conv2D(64, 3, 3, activation='relu'))\n",
    "model.add(ZeroPadding2D((1,1)))\n",
    "model.add(Conv2D(64, 3, 3, activation='relu'))\n",
    "model.add(MaxPooling2D(pool_size=2))\n",
    "\n",
    "model.add(ZeroPadding2D((1,1)))\n",
    "model.add(Conv2D(64, 3, 3, activation='relu'))\n",
    "model.add(ZeroPadding2D((1,1)))\n",
    "model.add(Conv2D(64, 3, 3, activation='relu'))\n",
    "model.add(ZeroPadding2D((1,1)))\n",
    "model.add(Conv2D(64, 3, 3, activation='relu'))\n",
    "model.add(MaxPooling2D(pool_size=2))\n",
    "\n",
    "model.add(Flatten())\n",
    "model.add(Dense(4096, activation='relu'))\n",
    "model.add(Dropout(0.6))\n",
    "model.add(Dense(4096, activation='relu'))\n",
    "model.add(Dropout(0.5))\n",
    "model.add(Dense(1, activation='sigmoid'))\n",
    "\n",
    "model.summary()"
   ]
  },
  {
   "cell_type": "markdown",
   "metadata": {},
   "source": [
    "## 5. Training and Validation"
   ]
  },
  {
   "cell_type": "markdown",
   "metadata": {},
   "source": [
    "There are several ways to enhance the images in order to reduce model overfitting. Keras provides by default a few of them like: \n",
    "These are just a few of the options available (for more, see the documentation). Let's quickly go over what we just wrote:\n",
    "\n",
    "- rotation_range is a value in degrees (0-180), a range within which to randomly rotate pictures\n",
    "- width_shift and height_shift are ranges (as a fraction of total width or height) within which to randomly translate pictures vertically or horizontally\n",
    "- rescale is a value by which we will multiply the data before any other processing. Our original images consist in RGB coefficients in the 0-255, but such values would be too - high for our models to process (given a typical learning rate), so we target values between 0 and 1 instead by scaling with a 1/255. factor.\n",
    "- shear_range is for randomly applying shearing transformations\n",
    "- zoom_range is for randomly zooming inside pictures\n",
    "- horizontal_flip is for randomly flipping half of the images horizontally --relevant when there are no assumptions of horizontal assymetry (e.g. real-world pictures).\n",
    "- fill_mode is the strategy used for filling in newly created pixels, which can appear after a rotation or a width/height shift.\n",
    "\n",
    "https://blog.keras.io/building-powerful-image-classification-models-using-very-little-data.html"
   ]
  },
  {
   "cell_type": "code",
   "execution_count": 18,
   "metadata": {
    "collapsed": true
   },
   "outputs": [],
   "source": [
    "from keras import optimizers\n",
    "\n",
    "# Let's use slower learning rate than by default\n",
    "# https://keras.io/optimizers/\n",
    "\n",
    "model.compile(loss='binary_crossentropy',\n",
    "              optimizer=optimizers.RMSprop(lr=1e-4),\n",
    "              metrics=['acc'])"
   ]
  },
  {
   "cell_type": "code",
   "execution_count": 19,
   "metadata": {},
   "outputs": [
    {
     "name": "stdout",
     "output_type": "stream",
     "text": [
      "Found 1031 images belonging to 2 classes.\n",
      "Found 516 images belonging to 2 classes.\n",
      "Found 516 images belonging to 2 classes.\n"
     ]
    }
   ],
   "source": [
    "from keras.preprocessing.image import ImageDataGenerator\n",
    "\n",
    "train_dir = \"./dataset2/train\"\n",
    "validation_dir = \"./dataset2/validation\"\n",
    "test_dir = \"./dataset2/test\"\n",
    "\n",
    "# All images will be rescaled by 1./255\n",
    "datagen = ImageDataGenerator(\n",
    "        rotation_range=10,\n",
    "        width_shift_range=0.1,\n",
    "        height_shift_range=0.1,\n",
    "        shear_range=0.1,\n",
    "        zoom_range=0.1,\n",
    "        horizontal_flip=True,\n",
    "        rescale=1./255)\n",
    "\n",
    "train_generator = datagen.flow_from_directory(\n",
    "    # This is the target directory\n",
    "    train_dir,\n",
    "    # All images will be resized to 256x256\n",
    "    target_size=(256, 256),\n",
    "    # We read images in batches\n",
    "    batch_size=16,\n",
    "    # Since we use binary_crossentropy loss, we need binary labels\n",
    "    class_mode='binary')\n",
    "\n",
    "validation_generator = datagen.flow_from_directory(\n",
    "        validation_dir,\n",
    "        target_size=(256, 256),\n",
    "        batch_size=16,\n",
    "        class_mode='binary')\n",
    "\n",
    "test_generator = datagen.flow_from_directory(\n",
    "        test_dir,\n",
    "        target_size=(256, 256),\n",
    "        batch_size=16,\n",
    "        class_mode='binary')"
   ]
  },
  {
   "cell_type": "code",
   "execution_count": null,
   "metadata": {},
   "outputs": [
    {
     "name": "stdout",
     "output_type": "stream",
     "text": [
      "Epoch 1/50\n",
      " - 26s - loss: 0.6515 - acc: 0.7000 - val_loss: 0.5474 - val_acc: 0.7500\n",
      "\n",
      "Epoch 00001: val_loss improved from inf to 0.54743, saving model to case_2_run_7.hdf5\n",
      "Epoch 2/50\n",
      " - 23s - loss: 0.5148 - acc: 0.7750 - val_loss: 0.5572 - val_acc: 0.7188\n",
      "\n",
      "Epoch 00002: val_loss did not improve from 0.54743\n",
      "Epoch 3/50\n",
      " - 26s - loss: 0.5737 - acc: 0.7250 - val_loss: 0.5716 - val_acc: 0.6875\n",
      "\n",
      "Epoch 00003: val_loss did not improve from 0.54743\n",
      "Epoch 4/50\n",
      " - 24s - loss: 0.5729 - acc: 0.7000 - val_loss: 0.5188 - val_acc: 0.7162\n",
      "\n",
      "Epoch 00004: val_loss improved from 0.54743 to 0.51881, saving model to case_2_run_7.hdf5\n",
      "Epoch 5/50\n",
      " - 26s - loss: 0.5852 - acc: 0.7125 - val_loss: 0.5771 - val_acc: 0.7250\n",
      "\n",
      "Epoch 00005: val_loss did not improve from 0.51881\n",
      "Epoch 6/50\n",
      " - 25s - loss: 0.5605 - acc: 0.6813 - val_loss: 0.5667 - val_acc: 0.6687\n",
      "\n",
      "Epoch 00006: val_loss did not improve from 0.51881\n",
      "Epoch 7/50\n",
      " - 24s - loss: 0.5704 - acc: 0.6827 - val_loss: 0.5671 - val_acc: 0.6622\n",
      "\n",
      "Epoch 00007: val_loss did not improve from 0.51881\n",
      "Epoch 8/50\n",
      " - 26s - loss: 0.5001 - acc: 0.7438 - val_loss: 0.5402 - val_acc: 0.7188\n",
      "\n",
      "Epoch 00008: val_loss did not improve from 0.51881\n",
      "Epoch 9/50\n",
      " - 26s - loss: 0.5544 - acc: 0.7188 - val_loss: 0.5236 - val_acc: 0.7250\n",
      "\n",
      "Epoch 00009: val_loss did not improve from 0.51881\n",
      "Epoch 10/50\n",
      " - 25s - loss: 0.5791 - acc: 0.7125 - val_loss: 0.5016 - val_acc: 0.7297\n",
      "\n",
      "Epoch 00010: val_loss improved from 0.51881 to 0.50156, saving model to case_2_run_7.hdf5\n",
      "Epoch 11/50\n",
      " - 25s - loss: 0.5410 - acc: 0.6937 - val_loss: 0.5477 - val_acc: 0.7438\n",
      "\n",
      "Epoch 00011: val_loss did not improve from 0.50156\n",
      "Epoch 12/50\n",
      " - 25s - loss: 0.5553 - acc: 0.7375 - val_loss: 0.4837 - val_acc: 0.7375\n",
      "\n",
      "Epoch 00012: val_loss improved from 0.50156 to 0.48370, saving model to case_2_run_7.hdf5\n",
      "Epoch 13/50\n",
      " - 22s - loss: 0.6158 - acc: 0.6785 - val_loss: 0.5535 - val_acc: 0.6750\n",
      "\n",
      "Epoch 00013: val_loss did not improve from 0.48370\n",
      "Epoch 14/50\n",
      " - 26s - loss: 0.5747 - acc: 0.7250 - val_loss: 0.5264 - val_acc: 0.7230\n",
      "\n",
      "Epoch 00014: val_loss did not improve from 0.48370\n",
      "Epoch 15/50\n",
      " - 24s - loss: 0.5799 - acc: 0.6562 - val_loss: 0.5337 - val_acc: 0.6937\n",
      "\n",
      "Epoch 00015: val_loss did not improve from 0.48370\n",
      "Epoch 16/50\n",
      " - 25s - loss: 0.5799 - acc: 0.6250 - val_loss: 0.5434 - val_acc: 0.7063\n",
      "\n",
      "Epoch 00016: val_loss did not improve from 0.48370\n",
      "Epoch 17/50\n",
      " - 26s - loss: 0.4312 - acc: 0.8063 - val_loss: 0.5053 - val_acc: 0.6757\n",
      "\n",
      "Epoch 00017: val_loss did not improve from 0.48370\n",
      "Epoch 18/50\n",
      " - 25s - loss: 0.5431 - acc: 0.7125 - val_loss: 0.4627 - val_acc: 0.7562\n",
      "\n",
      "Epoch 00018: val_loss improved from 0.48370 to 0.46270, saving model to case_2_run_7.hdf5\n",
      "Epoch 19/50\n",
      " - 25s - loss: 0.4681 - acc: 0.7562 - val_loss: 0.6152 - val_acc: 0.6750\n",
      "\n",
      "Epoch 00019: val_loss did not improve from 0.46270\n",
      "Epoch 20/50\n",
      " - 24s - loss: 0.5632 - acc: 0.7403 - val_loss: 0.4543 - val_acc: 0.7500\n",
      "\n",
      "Epoch 00020: val_loss improved from 0.46270 to 0.45433, saving model to case_2_run_7.hdf5\n",
      "Epoch 21/50\n",
      " - 25s - loss: 0.5781 - acc: 0.6875 - val_loss: 0.5324 - val_acc: 0.7063\n",
      "\n",
      "Epoch 00021: val_loss did not improve from 0.45433\n",
      "Epoch 22/50\n",
      " - 25s - loss: 0.5114 - acc: 0.7188 - val_loss: 0.4924 - val_acc: 0.7375\n",
      "\n",
      "Epoch 00022: val_loss did not improve from 0.45433\n",
      "Epoch 23/50\n",
      " - 25s - loss: 0.5023 - acc: 0.7562 - val_loss: 0.6171 - val_acc: 0.6687\n",
      "\n",
      "Epoch 00023: val_loss did not improve from 0.45433\n",
      "Epoch 24/50\n",
      " - 25s - loss: 0.5795 - acc: 0.6625 - val_loss: 0.4756 - val_acc: 0.7095\n",
      "\n",
      "Epoch 00024: val_loss did not improve from 0.45433\n",
      "Epoch 25/50\n",
      " - 25s - loss: 0.5548 - acc: 0.7250 - val_loss: 0.5342 - val_acc: 0.7125\n",
      "\n",
      "Epoch 00025: val_loss did not improve from 0.45433\n",
      "Epoch 26/50\n",
      " - 24s - loss: 0.5142 - acc: 0.6692 - val_loss: 0.5051 - val_acc: 0.7250\n",
      "\n",
      "Epoch 00026: val_loss did not improve from 0.45433\n",
      "Epoch 27/50\n",
      " - 24s - loss: 0.5296 - acc: 0.7188 - val_loss: 0.5635 - val_acc: 0.7027\n",
      "\n",
      "Epoch 00027: val_loss did not improve from 0.45433\n",
      "Epoch 28/50\n",
      " - 25s - loss: 0.5416 - acc: 0.7000 - val_loss: 0.5825 - val_acc: 0.6562\n",
      "\n",
      "Epoch 00028: val_loss did not improve from 0.45433\n",
      "Epoch 29/50\n",
      " - 25s - loss: 0.5006 - acc: 0.7562 - val_loss: 0.5954 - val_acc: 0.7500\n",
      "\n",
      "Epoch 00029: val_loss did not improve from 0.45433\n",
      "Epoch 30/50\n",
      " - 25s - loss: 0.6051 - acc: 0.6437 - val_loss: 0.4954 - val_acc: 0.7365\n",
      "\n",
      "Epoch 00030: val_loss did not improve from 0.45433\n",
      "Epoch 31/50\n",
      " - 25s - loss: 0.5099 - acc: 0.7250 - val_loss: 0.5941 - val_acc: 0.7562\n",
      "\n",
      "Epoch 00031: val_loss did not improve from 0.45433\n",
      "Epoch 32/50\n",
      " - 25s - loss: 0.5606 - acc: 0.7250 - val_loss: 0.5222 - val_acc: 0.6813\n",
      "\n",
      "Epoch 00032: val_loss did not improve from 0.45433\n",
      "Epoch 33/50\n",
      " - 25s - loss: 0.4822 - acc: 0.7288 - val_loss: 0.5562 - val_acc: 0.6892\n",
      "\n",
      "Epoch 00033: val_loss did not improve from 0.45433\n",
      "Epoch 34/50\n",
      " - 25s - loss: 0.5629 - acc: 0.6875 - val_loss: 0.4757 - val_acc: 0.6875\n",
      "\n",
      "Epoch 00034: val_loss did not improve from 0.45433\n",
      "Epoch 35/50\n",
      " - 25s - loss: 0.5554 - acc: 0.7375 - val_loss: 0.5546 - val_acc: 0.7188\n",
      "\n",
      "Epoch 00035: val_loss did not improve from 0.45433\n",
      "Epoch 36/50\n",
      " - 25s - loss: 0.5938 - acc: 0.6937 - val_loss: 0.5031 - val_acc: 0.7688\n",
      "\n",
      "Epoch 00036: val_loss did not improve from 0.45433\n",
      "Epoch 37/50\n",
      " - 25s - loss: 0.4539 - acc: 0.7438 - val_loss: 0.5409 - val_acc: 0.7162\n",
      "\n",
      "Epoch 00037: val_loss did not improve from 0.45433\n",
      "Epoch 38/50\n",
      " - 25s - loss: 0.6092 - acc: 0.6750 - val_loss: 0.5429 - val_acc: 0.7063\n",
      "\n",
      "Epoch 00038: val_loss did not improve from 0.45433\n",
      "Epoch 39/50\n",
      " - 23s - loss: 0.4924 - acc: 0.7278 - val_loss: 0.4575 - val_acc: 0.7188\n",
      "\n",
      "Epoch 00039: val_loss did not improve from 0.45433\n",
      "Epoch 40/50\n",
      " - 24s - loss: 0.5537 - acc: 0.7000 - val_loss: 0.5591 - val_acc: 0.6554\n",
      "\n",
      "Epoch 00040: val_loss did not improve from 0.45433\n",
      "Epoch 41/50\n",
      " - 25s - loss: 0.4950 - acc: 0.7250 - val_loss: 0.5390 - val_acc: 0.7063\n",
      "\n",
      "Epoch 00041: val_loss did not improve from 0.45433\n",
      "Epoch 42/50\n",
      " - 26s - loss: 0.4902 - acc: 0.7312 - val_loss: 0.4988 - val_acc: 0.7312\n",
      "\n",
      "Epoch 00042: val_loss did not improve from 0.45433\n",
      "Epoch 43/50\n",
      " - 25s - loss: 0.5709 - acc: 0.7375 - val_loss: 0.5297 - val_acc: 0.6824\n",
      "\n",
      "Epoch 00043: val_loss did not improve from 0.45433\n",
      "Epoch 44/50\n",
      " - 25s - loss: 0.5051 - acc: 0.7188 - val_loss: 0.5428 - val_acc: 0.7000\n",
      "\n",
      "Epoch 00044: val_loss did not improve from 0.45433\n",
      "Epoch 45/50\n",
      " - 25s - loss: 0.5392 - acc: 0.7000 - val_loss: 0.5166 - val_acc: 0.7312\n",
      "\n",
      "Epoch 00045: val_loss did not improve from 0.45433\n",
      "Epoch 46/50\n",
      " - 24s - loss: 0.5407 - acc: 0.6566 - val_loss: 0.5180 - val_acc: 0.7438\n",
      "\n",
      "Epoch 00046: val_loss did not improve from 0.45433\n",
      "Epoch 47/50\n",
      " - 25s - loss: 0.5010 - acc: 0.7188 - val_loss: 0.4931 - val_acc: 0.7703\n",
      "\n",
      "Epoch 00047: val_loss did not improve from 0.45433\n",
      "Epoch 48/50\n",
      " - 25s - loss: 0.4830 - acc: 0.6688 - val_loss: 0.5135 - val_acc: 0.7500\n",
      "\n",
      "Epoch 00048: val_loss did not improve from 0.45433\n",
      "Epoch 49/50\n"
     ]
    }
   ],
   "source": [
    "from keras.callbacks import ModelCheckpoint   \n",
    "\n",
    "checkpointer = ModelCheckpoint(filepath='case_2_run_7.hdf5', verbose=1, \n",
    "                               save_best_only=True)\n",
    "\n",
    "history = model.fit_generator(\n",
    "    train_generator,\n",
    "    steps_per_epoch = 10,\n",
    "    callbacks=[checkpointer], \n",
    "    verbose=2, \n",
    "    shuffle=True,\n",
    "    epochs = 50,\n",
    "    validation_data = validation_generator,\n",
    "    validation_steps = 10)"
   ]
  },
  {
   "cell_type": "markdown",
   "metadata": {},
   "source": [
    "## 6. Evaluation"
   ]
  },
  {
   "cell_type": "code",
   "execution_count": 13,
   "metadata": {
    "collapsed": true
   },
   "outputs": [
    {
     "data": {
      "image/png": "[encoded data removed]",
      "text/plain": [
       "<Figure size 432x288 with 1 Axes>"
      ]
     },
     "metadata": {
      "needs_background": "light"
     },
     "output_type": "display_data"
    },
    {
     "data": {
      "image/png": "[encoded data removed]",
      "text/plain": [
       "<Figure size 432x288 with 1 Axes>"
      ]
     },
     "metadata": {
      "needs_background": "light"
     },
     "output_type": "display_data"
    }
   ],
   "source": [
    "acc = history.history['acc']\n",
    "val_acc = history.history['val_acc']\n",
    "loss = history.history['loss']\n",
    "val_loss = history.history['val_loss']\n",
    "\n",
    "epochs = range(len(acc))\n",
    "\n",
    "plt.plot(epochs, acc, 'bo', label='Training acc')\n",
    "plt.plot(epochs, val_acc, 'b', label='Validation acc')\n",
    "plt.title('Training and validation accuracy')\n",
    "plt.legend()\n",
    "\n",
    "plt.figure()\n",
    "\n",
    "plt.plot(epochs, loss, 'bo', label='Training loss')\n",
    "plt.plot(epochs, val_loss, 'b', label='Validation loss')\n",
    "plt.title('Training and validation loss')\n",
    "plt.legend()\n",
    "\n",
    "plt.show()"
   ]
  },
  {
   "cell_type": "code",
   "execution_count": 14,
   "metadata": {
    "collapsed": true
   },
   "outputs": [
    {
     "name": "stdout",
     "output_type": "stream",
     "text": [
      "Loss:  0.6274848785251379 Accuracy:  0.72265625\n"
     ]
    }
   ],
   "source": [
    "score = model.evaluate_generator(test_generator, 16, verbose=0)\n",
    "print(\"Loss: \", score[0], \"Accuracy: \", score[1])"
   ]
  },
  {
   "cell_type": "markdown",
   "metadata": {},
   "source": [
    "## 7. Conclusions"
   ]
  },
  {
   "cell_type": "markdown",
   "metadata": {},
   "source": [
    "Several architectures have been tried out throughout this study case. The final architecture derives from the VGG-NET architecture (https://arxiv.org/pdf/1409.1556.pdf) but there are multiple options worth trying out - the ImageNET competition winners like AlexNET (http://papers.nips.cc/paper/4824-imagenet-classification-with-deep-convolutional-neural-networks.pdf) or ResNET (https://arxiv.org/pdf/1512.03385v1.pdf). The 2 unexplored interesting tryouts to be done in the future are the usage of Keras ImageNET pretrained models (https://keras.io/applications/) and transfer learning (the act of retraining the fully connected layer of the model specific to retinopathy dataset)."
   ]
  }
 ],
 "metadata": {
  "kernelspec": {
   "display_name": "Python 3",
   "language": "python",
   "name": "python3"
  },
  "language_info": {
   "codemirror_mode": {
    "name": "ipython",
    "version": 3
   },
   "file_extension": ".py",
   "mimetype": "text/x-python",
   "name": "python",
   "nbconvert_exporter": "python",
   "pygments_lexer": "ipython3",
   "version": "3.6.7"
  }
 },
 "nbformat": 4,
 "nbformat_minor": 2
}
